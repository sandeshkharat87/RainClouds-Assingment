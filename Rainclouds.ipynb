{
 "cells": [
  {
   "cell_type": "code",
   "execution_count": 4,
   "id": "1e6ef274-6ebb-4d14-9570-dc85987dd083",
   "metadata": {},
   "outputs": [
    {
     "data": {
      "text/plain": [
       "True"
      ]
     },
     "execution_count": 4,
     "metadata": {},
     "output_type": "execute_result"
    }
   ],
   "source": [
    "from dotenv import load_dotenv\n",
    "load_dotenv(\"/home/wpnx/.secrets/.env\")"
   ]
  },
  {
   "cell_type": "markdown",
   "id": "491927d6-dcc7-442c-805a-993290523106",
   "metadata": {},
   "source": [
    "\n",
    "### Readme \n",
    "I created the chatbot using the provided documents, but it is not answering questions about CIS Rules correctly\n",
    "because no documents were provided for CIS Rules. However, I have added some websites that contain information \n",
    "on CIS Rules. (We will use web scraping to extract the data from these websites, which will then be saved in the vector database.)\n",
    "\n",
    "With CIS Documents llm model could have run better\n"
   ]
  },
  {
   "cell_type": "code",
   "execution_count": 67,
   "id": "86738b6a-711c-46f5-bc4e-cbac6dea5ee0",
   "metadata": {},
   "outputs": [],
   "source": [
    "#importing libaries\n",
    "from langchain_community.document_loaders import DirectoryLoader, WebBaseLoader, UnstructuredExcelLoader\n",
    "from langchain_community.vectorstores import FAISS\n",
    "from langchain_groq import ChatGroq\n",
    "from langchain_community.embeddings import HuggingFaceEmbeddings,SentenceTransformerEmbeddings\n",
    "from langchain.text_splitter import RecursiveCharacterTextSplitter\n",
    "from langchain.document_loaders import WebBaseLoader\n",
    "import pandas as pd\n",
    "import requests\n",
    "from langchain.llms import Ollama\n",
    "from langchain.agents import tool, initialize_agent,AgentExecutor, create_react_agent\n",
    "from langchain import hub"
   ]
  },
  {
   "cell_type": "code",
   "execution_count": 133,
   "id": "d81034a6-d85b-412b-8a9a-0a8b1eb3f721",
   "metadata": {},
   "outputs": [],
   "source": [
    "### Here we are using gemma2:2b model\n",
    "# model size is 1.6 gb so it could run on cpu also"
   ]
  },
  {
   "cell_type": "code",
   "execution_count": 126,
   "id": "bc83d5ec-8d69-42fc-8517-19ea2a4aeee5",
   "metadata": {},
   "outputs": [],
   "source": [
    "# llm = ChatGroq(name=\"llama3.1\")\n",
    "llm = Ollama(model= \"gemma2:2b\")"
   ]
  },
  {
   "cell_type": "code",
   "execution_count": 115,
   "id": "4a2ef3b1-03cc-462c-9955-201785e10264",
   "metadata": {},
   "outputs": [
    {
     "name": "stderr",
     "output_type": "stream",
     "text": [
      "/home/wpnx/CODES/ENVS/LLM_BASE/lib/python3.10/site-packages/transformers/tokenization_utils_base.py:1601: FutureWarning: `clean_up_tokenization_spaces` was not set. It will be set to `True` by default. This behavior will be depracted in transformers v4.45, and will be then set to `False` by default. For more details check this issue: https://github.com/huggingface/transformers/issues/31884\n",
      "  warnings.warn(\n"
     ]
    }
   ],
   "source": [
    "### setting up llm and embedding model\n",
    "embed_model = HuggingFaceEmbeddings(model_name=\"sentence-transformers/all-MiniLM-L6-v2\")"
   ]
  },
  {
   "cell_type": "code",
   "execution_count": 127,
   "id": "bb782320-1b73-4cc0-a889-c8535ee99221",
   "metadata": {},
   "outputs": [],
   "source": [
    "#creaing Vectordatabase\n",
    "\n",
    "splitter = RecursiveCharacterTextSplitter(chunk_size=750, chunk_overlap=150)\n",
    "web_loader = WebBaseLoader([ \"https://www.prnewswire.com/news-releases/center-for-internet-security-cis-releases-cis-controls-v8-to-reflect-evolving-technology-threats-301293567.html\",\n",
    "                           \"https://www.cisecurity.org/terms-and-conditions-table-of-contents\",\n",
    "                            \"https://www.cisecurity.org/controls/cis-controls-list\"])\n",
    "temp_docs = web_loader.load()\n",
    "docs = splitter.split_documents(temp_docs)\n",
    "cis_db = FAISS.from_documents(docs, embed_model)\n",
    "\n",
    "## Excel Documents\n",
    "splitter = RecursiveCharacterTextSplitter(chunk_size=750, chunk_overlap=150)\n",
    "excel_loader = DirectoryLoader(\"Datasets/excel_docs/\",glob=\"**/*.xlsx\")\n",
    "excel_docs = splitter.split_documents(excel_loader.load())\n",
    "Excel_Database = FAISS.from_documents(excel_docs, embed_model)"
   ]
  },
  {
   "cell_type": "code",
   "execution_count": 94,
   "id": "f41fa608-8bdd-4b7a-8d35-8c99e9abe03b",
   "metadata": {},
   "outputs": [],
   "source": [
    "main_docs = []"
   ]
  },
  {
   "cell_type": "code",
   "execution_count": 95,
   "id": "db9cbb08-45e4-493e-a513-7004d6558c95",
   "metadata": {},
   "outputs": [],
   "source": [
    "main_docs.extend(docs)"
   ]
  },
  {
   "cell_type": "code",
   "execution_count": 96,
   "id": "d1ac7b73-4685-40e3-858f-bcd5e31aa11d",
   "metadata": {},
   "outputs": [
    {
     "data": {
      "text/plain": [
       "55"
      ]
     },
     "execution_count": 96,
     "metadata": {},
     "output_type": "execute_result"
    }
   ],
   "source": [
    "len(main_docs)"
   ]
  },
  {
   "cell_type": "code",
   "execution_count": 97,
   "id": "1e0d608d-f162-4638-bc57-2bc9b83a010d",
   "metadata": {},
   "outputs": [],
   "source": [
    "main_docs.extend(excel_docs)"
   ]
  },
  {
   "cell_type": "code",
   "execution_count": 98,
   "id": "6c156419-91ec-4ff2-9e3c-4fd9bc7fbb37",
   "metadata": {},
   "outputs": [
    {
     "data": {
      "text/plain": [
       "1327"
      ]
     },
     "execution_count": 98,
     "metadata": {},
     "output_type": "execute_result"
    }
   ],
   "source": [
    "len(main_docs)"
   ]
  },
  {
   "cell_type": "code",
   "execution_count": 99,
   "id": "9361cf63-08e1-4806-b8d2-50a2bd576126",
   "metadata": {},
   "outputs": [],
   "source": [
    "main_database = FAISS.from_documents(main_docs, embed_model)"
   ]
  },
  {
   "cell_type": "code",
   "execution_count": 134,
   "id": "a43bf292-d588-4171-baf9-9fbcfed65405",
   "metadata": {},
   "outputs": [],
   "source": [
    "### this is main database whcih conatains info about CIS, AWS, GCP"
   ]
  },
  {
   "cell_type": "code",
   "execution_count": 128,
   "id": "6e453b7a-808a-4b5e-9c00-76079c0aa84a",
   "metadata": {
    "scrolled": true
   },
   "outputs": [],
   "source": [
    "## Prompt for CIS and AWS GCP chain\n",
    "from langchain.prompts import PromptTemplate\n",
    "from langchain_core.runnables import RunnablePassthrough\n",
    "from langchain_core.output_parsers import StrOutputParser\n",
    "\n",
    "cis_template = \"\"\"\n",
    "You are a bot for Center for Internet Security (CIS). You have to \n",
    "answer CIS Questions. If you dont know answer just say i dont know\n",
    "Question:{question}\n",
    "Context:{context}\n",
    "Answer\n",
    "\"\"\"\n",
    "\n",
    "\n",
    "env_temp=\"\"\"\n",
    "You are helful bot for Center for Internet Security (CIS), Amazons AWS and Googles GCP cloud Information. which answers users query from the give context.\n",
    "From given context find the answers if answer not in the context just say I dont know , nothing else.\n",
    "Question:{question}\n",
    "Context:{context}\n",
    "Answer:\n",
    "\"\"\"\n",
    "\n",
    "env_prompt = PromptTemplate.from_template(env_temp)\n",
    "# agent_prompt = hub.pull(\"hwchase17/react\")\n",
    "# cis_prompt = PromptTemplate.from_template(cis_template)\n",
    "\n"
   ]
  },
  {
   "cell_type": "code",
   "execution_count": 129,
   "id": "c8911bb9-15fa-4d40-90e0-f0dfba249aa7",
   "metadata": {},
   "outputs": [],
   "source": [
    "from langchain.chains import RetrievalQA\n",
    "\n",
    "env_chain = RetrievalQA.from_chain_type(llm=llm,retriever=main_database.as_retriever() ,chain_type_kwargs={\"prompt\":env_prompt})\n",
    "# cis_chain = RetrievalQA.from_chain_type(llm=llm,retriever=cis_db.as_retriever() ,chain_type_kwargs={\"prompt\":cis_prompt},return_source_documents=True)"
   ]
  },
  {
   "cell_type": "code",
   "execution_count": 130,
   "id": "fe96e72d-e20c-40ea-bfb4-f7ebe8587cf9",
   "metadata": {},
   "outputs": [],
   "source": [
    "def chat(question):\n",
    "    answer = env_chain.invoke(question)[\"result\"]\n",
    "    return {\"question\":question, \"answer\":answer}"
   ]
  },
  {
   "cell_type": "code",
   "execution_count": 120,
   "id": "ea579342-bdec-4a33-81b0-a221424bad56",
   "metadata": {},
   "outputs": [],
   "source": [
    "### LLM Rsult"
   ]
  },
  {
   "cell_type": "code",
   "execution_count": 123,
   "id": "a4d3a641-2703-4bf7-9449-099bc289eb30",
   "metadata": {},
   "outputs": [
    {
     "data": {
      "text/plain": [
       "{'question': 'How do I apply the CIS rule to disable unused services on a Linux server?',\n",
       " 'answer': \"The context provided does not include information on how to apply the CIS rule to disable unused services on a Linux server. It includes controls and descriptions related to uninstalling or disabling unnecessary services, ensuring only approved ports, protocols, and services are running, and denying communication over unauthorized ports. However, it does not provide specific steps or instructions for implementing these controls on a Linux server. Therefore, my answer is: I don't know.\"}"
      ]
     },
     "execution_count": 123,
     "metadata": {},
     "output_type": "execute_result"
    }
   ],
   "source": [
    "chat(\"How do I apply the CIS rule to disable unused services on a Linux server?\")"
   ]
  },
  {
   "cell_type": "code",
   "execution_count": 124,
   "id": "a7dcab3e-5c9d-4ee7-bb88-5181d0b64770",
   "metadata": {},
   "outputs": [
    {
     "data": {
      "text/plain": [
       "{'question': 'Can you tell me what the CIS compliance guidelines for secure password policies are?',\n",
       " 'answer': 'The CIS compliance guidelines for secure password policies recommend that the IAM password policy requires a minimum length of 14 or greater and prevents password reuse. Setting a password complexity policy and preventing password reuse increases account resiliency against brute force login attempts.'}"
      ]
     },
     "execution_count": 124,
     "metadata": {},
     "output_type": "execute_result"
    }
   ],
   "source": [
    "chat(\"Can you tell me what the CIS compliance guidelines for secure password policies are?\")"
   ]
  },
  {
   "cell_type": "code",
   "execution_count": 125,
   "id": "21493c77-d428-41a5-811a-35475150e03e",
   "metadata": {},
   "outputs": [
    {
     "data": {
      "text/plain": [
       "{'question': 'What is CIS Rule 99.9.9?',\n",
       " 'answer': \"I don't know. The context provided does not include information about CIS Rule 99.9.9.\"}"
      ]
     },
     "execution_count": 125,
     "metadata": {},
     "output_type": "execute_result"
    }
   ],
   "source": [
    "chat(\"What is CIS Rule 99.9.9?\")"
   ]
  },
  {
   "cell_type": "code",
   "execution_count": 131,
   "id": "ffda52e3-ba55-4baa-b1fc-7cb764b9192d",
   "metadata": {},
   "outputs": [
    {
     "data": {
      "text/plain": [
       "{'question': 'What is CIS Rule 99.9.9?', 'answer': 'I dont know \\n'}"
      ]
     },
     "execution_count": 131,
     "metadata": {},
     "output_type": "execute_result"
    }
   ],
   "source": [
    "chat(\"What is CIS Rule 99.9.9?\")"
   ]
  },
  {
   "cell_type": "code",
   "execution_count": null,
   "id": "a338d1a2-31b9-4cc2-bc16-fb960f34199f",
   "metadata": {},
   "outputs": [],
   "source": []
  }
 ],
 "metadata": {
  "kernelspec": {
   "display_name": "LLM_BASE",
   "language": "python",
   "name": "llm_base"
  },
  "language_info": {
   "codemirror_mode": {
    "name": "ipython",
    "version": 3
   },
   "file_extension": ".py",
   "mimetype": "text/x-python",
   "name": "python",
   "nbconvert_exporter": "python",
   "pygments_lexer": "ipython3",
   "version": "3.10.12"
  }
 },
 "nbformat": 4,
 "nbformat_minor": 5
}
